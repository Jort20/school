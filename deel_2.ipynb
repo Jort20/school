{
 "cells": [
  {
   "cell_type": "code",
   "execution_count": 1,
   "metadata": {},
   "outputs": [
    {
     "name": "stderr",
     "output_type": "stream",
     "text": [
      "/Users/jortgommers/opt/anaconda3/lib/python3.9/site-packages/scipy/__init__.py:146: UserWarning: A NumPy version >=1.16.5 and <1.23.0 is required for this version of SciPy (detected version 1.26.4\n",
      "  warnings.warn(f\"A NumPy version >={np_minversion} and <{np_maxversion}\"\n"
     ]
    }
   ],
   "source": [
    "import os\n",
    "import numpy as np\n",
    "import pandas as pd\n",
    "import matplotlib.pyplot as plt\n",
    "import seaborn as sns\n",
    "from glob import glob\n",
    "from collections import defaultdict\n"
   ]
  },
  {
   "cell_type": "code",
   "execution_count": null,
   "metadata": {},
   "outputs": [],
   "source": [
    "# Set the base directory for the dataset\n",
    "base_dir = \"path/to/your/dataset\"\n",
    "\n",
    "# Dictionary to store data information\n",
    "data_info = defaultdict(list)\n",
    "\n",
    "# Traverse the dataset\n",
    "for patient_folder in os.listdir(base_dir):\n",
    "    patient_path = os.path.join(base_dir, patient_folder)\n",
    "    if os.path.isdir(patient_path):\n",
    "        for label in [\"0\", \"1\"]:  # Directories for IDC-negative and IDC-positive\n",
    "            label_path = os.path.join(patient_path, label)\n",
    "            if os.path.exists(label_path):\n",
    "                images = glob(os.path.join(label_path, \"*.png\"))\n",
    "                data_info[\"patient_id\"].extend([patient_folder] * len(images))\n",
    "                data_info[\"label\"].extend([int(label)] * len(images))\n",
    "                data_info[\"file_path\"].extend(images)\n",
    "\n",
    "# Convert to a DataFrame\n",
    "data_df = pd.DataFrame(data_info)"
   ]
  },
  {
   "cell_type": "code",
   "execution_count": null,
   "metadata": {},
   "outputs": [],
   "source": [
    "# Summary statistics\n",
    "def summarize_data():\n",
    "    print(\"Dataset Summary\")\n",
    "    print(\"Total images:\", len(data_df))\n",
    "    print(data_df[\"label\"].value_counts(normalize=True) * 100)\n",
    "    print(\"\\nSample rows from the dataset:\")\n",
    "    print(data_df.head())"
   ]
  },
  {
   "cell_type": "code",
   "execution_count": null,
   "metadata": {},
   "outputs": [],
   "source": [
    "# Check for missing data\n",
    "def check_missing():\n",
    "    print(\"Missing Data Check\")\n",
    "    print(data_df.isnull().sum())"
   ]
  },
  {
   "cell_type": "code",
   "execution_count": null,
   "metadata": {},
   "outputs": [],
   "source": [
    "def plot_class_distribution():\n",
    "    plt.figure(figsize=(8, 5))\n",
    "    sns.countplot(x=\"label\", data=data_df, palette=\"Set2\")\n",
    "    plt.title(\"Class Distribution (IDC-negative vs IDC-positive)\")\n",
    "    plt.xlabel(\"Label (0 = Healthy, 1 = IDC)\")\n",
    "    plt.ylabel(\"Number of Images\")\n",
    "    plt.show()"
   ]
  },
  {
   "cell_type": "code",
   "execution_count": null,
   "metadata": {},
   "outputs": [],
   "source": [
    "# Calculate percentage of IDC-positive images per patient\n",
    "def calculate_patient_percentage():\n",
    "    patient_stats = data_df.groupby(\"patient_id\")[\"label\"].value_counts(normalize=True).unstack(fill_value=0)\n",
    "    patient_stats.columns = [\"IDC-negative\", \"IDC-positive\"]\n",
    "    patient_stats[\"IDC-positive-percentage\"] = patient_stats[\"IDC-positive\"] * 100\n",
    "\n",
    "    plt.figure(figsize=(12, 6))\n",
    "    sns.boxplot(patient_stats[\"IDC-positive-percentage\"], color=\"orange\")\n",
    "    plt.title(\"Percentage of IDC-positive Images per Patient\")\n",
    "    plt.xlabel(\"IDC-positive Percentage\")\n",
    "    plt.show()\n",
    "\n",
    "    print(patient_stats.describe())\n",
    "    return patient_stats\n"
   ]
  },
  {
   "cell_type": "code",
   "execution_count": null,
   "metadata": {},
   "outputs": [],
   "source": [
    "def analyze_coordinates():\n",
    "    coord_data = data_df[\"file_path\"].apply(lambda x: os.path.basename(x).split(\"_\"))\n",
    "    data_df[\"x_coord\"] = coord_data.apply(lambda x: int(x[2]))\n",
    "    data_df[\"y_coord\"] = coord_data.apply(lambda x: int(x[3]))\n",
    "\n",
    "    plt.figure(figsize=(10, 8))\n",
    "    sns.scatterplot(\n",
    "        x=\"x_coord\", y=\"y_coord\", hue=\"label\",\n",
    "        data=data_df.sample(10000), alpha=0.5, palette=\"coolwarm\"\n",
    "    )\n",
    "    plt.title(\"Distribution of X-Y Coordinates by Label\")\n",
    "    plt.xlabel(\"X Coordinate\")\n",
    "    plt.ylabel(\"Y Coordinate\")\n",
    "    plt.legend(title=\"Label\", loc=\"upper right\")\n",
    "    plt.show()"
   ]
  },
  {
   "cell_type": "code",
   "execution_count": null,
   "metadata": {},
   "outputs": [],
   "source": [
    "def show_sample_images():\n",
    "    fig, axes = plt.subplots(4, 4, figsize=(12, 12))\n",
    "    positive_samples = data_df[data_df[\"label\"] == 1][\"file_path\"].sample(8).tolist()\n",
    "    negative_samples = data_df[data_df[\"label\"] == 0][\"file_path\"].sample(8).tolist()\n",
    "    samples = positive_samples + negative_samples\n",
    "\n",
    "    for i, ax in enumerate(axes.flat):\n",
    "        img = plt.imread(samples[i])\n",
    "        label = 1 if i < 8 else 0\n",
    "        ax.imshow(img, cmap=\"gray\")\n",
    "        ax.set_title(f\"Label: {label}\")\n",
    "        ax.axis(\"off\")\n",
    "    plt.tight_layout()\n",
    "    plt.show()"
   ]
  },
  {
   "cell_type": "code",
   "execution_count": null,
   "metadata": {},
   "outputs": [],
   "source": [
    "if __name__ == \"__main__\":\n",
    "    summarize_data()\n",
    "    check_missing()\n",
    "    plot_class_distribution()\n",
    "    patient_stats = calculate_patient_percentage()\n",
    "    analyze_coordinates()\n",
    "    show_sample_images()\n"
   ]
  }
 ],
 "metadata": {
  "kernelspec": {
   "display_name": "base",
   "language": "python",
   "name": "python3"
  },
  "language_info": {
   "codemirror_mode": {
    "name": "ipython",
    "version": 3
   },
   "file_extension": ".py",
   "mimetype": "text/x-python",
   "name": "python",
   "nbconvert_exporter": "python",
   "pygments_lexer": "ipython3",
   "version": "3.9.12"
  }
 },
 "nbformat": 4,
 "nbformat_minor": 2
}
